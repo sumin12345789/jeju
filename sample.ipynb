{
 "cells": [
  {
   "cell_type": "code",
   "execution_count": 1,
   "metadata": {},
   "outputs": [
    {
     "name": "stdout",
     "output_type": "stream",
     "text": [
      "/home/sumin/Downloads/jit\n"
     ]
    }
   ],
   "source": [
    "cd /home/sumin/Downloads/jit"
   ]
  },
  {
   "cell_type": "code",
   "execution_count": 2,
   "metadata": {},
   "outputs": [],
   "source": [
    "from pickle import FALSE\n",
    "#-*- coding: utf-8 -*-\n",
    "'''\n",
    "Train bpe model and bpe-segment train/valid/test datasets.\n",
    "e.g.,\n",
    "python bpe_segment.py --jit /content/drive/MyDrive/Colab Notebooks/jit --vocab_size 4000\n",
    "'''\n",
    "import codecs\n",
    "import os\n",
    "import sentencepiece as spm\n",
    "\n",
    "from jamo import h2j # syllable to jamo (letter)\n",
    "import argparse\n",
    "import easydict\n",
    "\n",
    "def train_bpe(fpath, vocab_size):\n",
    "    dir = os.path.dirname(fpath)\n",
    "    train = f'--input={fpath} \\\n",
    "              --normalization_rule_name=identity \\\n",
    "              --model_prefix={dir}/bpe \\\n",
    "              --character_coverage=1 \\\n",
    "              --vocab_size={vocab_size} \\\n",
    "              --model_type=bpe'\n",
    "    spm.SentencePieceTrainer.Train(train)\n",
    "\n",
    "    # modify Dictionary\n",
    "    lines = [line.replace(\"\\t\", \" \") for line in codecs.open(f'{dir}/bpe.vocab', 'r', 'utf8').read().splitlines()[3:]]\n",
    "    with codecs.open(f'{dir}/bpe.dict', 'w', 'utf8') as fout:\n",
    "        fout.write(\"\\n\".join(lines))\n",
    "    os.system(f'rm {dir}/bpe.vocab')\n",
    "\n",
    "def apply_bpe(sp, sents, out_file):\n",
    "    with codecs.open(out_file, 'w', 'utf8') as fout:\n",
    "        fout.write(\"\\n\".join(\" \".join(sp.EncodeAsPieces(sent)) for sent in sents))\n",
    "\n",
    "\n",
    "if __name__ == \"__main__\":\n",
    "    # arguments setting\n",
    "    hp = easydict.EasyDict({\n",
    "        \"jit\" : \"/home/sumin/Downloads/jit\",\n",
    "        \"vocab_size\" : 4000\n",
    "    })"
   ]
  },
  {
   "cell_type": "code",
   "execution_count": 3,
   "metadata": {},
   "outputs": [
    {
     "name": "stdout",
     "output_type": "stream",
     "text": [
      "2023-06-17 16:03:37 | INFO | fairseq_cli.interactive | {'_name': None, 'common': {'_name': None, 'no_progress_bar': False, 'log_interval': 100, 'log_format': None, 'log_file': None, 'aim_repo': None, 'aim_run_hash': None, 'tensorboard_logdir': None, 'wandb_project': None, 'azureml_logging': False, 'seed': 1, 'cpu': False, 'tpu': False, 'bf16': False, 'memory_efficient_bf16': False, 'fp16': False, 'memory_efficient_fp16': False, 'fp16_no_flatten_grads': False, 'fp16_init_scale': 128, 'fp16_scale_window': None, 'fp16_scale_tolerance': 0.0, 'on_cpu_convert_precision': False, 'min_loss_scale': 0.0001, 'threshold_loss_scale': None, 'amp': False, 'amp_batch_retries': 2, 'amp_init_scale': 128, 'amp_scale_window': None, 'user_dir': None, 'empty_cache_freq': 0, 'all_gather_list_size': 16384, 'model_parallel_size': 1, 'quantization_config_path': None, 'profile': False, 'reset_logging': False, 'suppress_crashes': False, 'use_plasma_view': False, 'plasma_path': '/tmp/plasma'}, 'common_eval': {'_name': None, 'path': '/home/sumin/train/4k/ko-je-bin/ckpt/checkpoint_best.pt', 'post_process': 'sentencepiece', 'quiet': False, 'model_overrides': '{}', 'results_path': None}, 'distributed_training': {'_name': None, 'distributed_world_size': 1, 'distributed_num_procs': 1, 'distributed_rank': 0, 'distributed_backend': 'nccl', 'distributed_init_method': None, 'distributed_port': -1, 'device_id': 0, 'distributed_no_spawn': False, 'ddp_backend': 'pytorch_ddp', 'ddp_comm_hook': 'none', 'bucket_cap_mb': 25, 'fix_batches_to_gpus': False, 'find_unused_parameters': False, 'gradient_as_bucket_view': False, 'fast_stat_sync': False, 'heartbeat_timeout': -1, 'broadcast_buffers': False, 'slowmo_momentum': None, 'slowmo_base_algorithm': 'localsgd', 'localsgd_frequency': 3, 'nprocs_per_node': 1, 'pipeline_model_parallel': False, 'pipeline_balance': None, 'pipeline_devices': None, 'pipeline_chunks': 0, 'pipeline_encoder_balance': None, 'pipeline_encoder_devices': None, 'pipeline_decoder_balance': None, 'pipeline_decoder_devices': None, 'pipeline_checkpoint': 'never', 'zero_sharding': 'none', 'fp16': False, 'memory_efficient_fp16': False, 'tpu': False, 'no_reshard_after_forward': False, 'fp32_reduce_scatter': False, 'cpu_offload': False, 'use_sharded_state': False, 'not_fsdp_flatten_parameters': False}, 'dataset': {'_name': None, 'num_workers': 1, 'skip_invalid_size_inputs_valid_test': False, 'max_tokens': None, 'batch_size': 1, 'required_batch_size_multiple': 8, 'required_seq_len_multiple': 1, 'dataset_impl': None, 'data_buffer_size': 10, 'train_subset': 'train', 'valid_subset': 'valid', 'combine_valid_subsets': None, 'ignore_unused_valid_subsets': False, 'validate_interval': 1, 'validate_interval_updates': 0, 'validate_after_updates': 0, 'fixed_validation_seed': None, 'disable_validation': False, 'max_tokens_valid': None, 'batch_size_valid': None, 'max_valid_steps': None, 'curriculum': 0, 'gen_subset': 'test', 'num_shards': 1, 'shard_id': 0, 'grouped_shuffling': False, 'update_epoch_batch_itr': False, 'update_ordered_indices_seed': False}, 'optimization': {'_name': None, 'max_epoch': 0, 'max_update': 0, 'stop_time_hours': 0.0, 'clip_norm': 0.0, 'sentence_avg': False, 'update_freq': [1], 'lr': [0.25], 'stop_min_lr': -1.0, 'use_bmuf': False, 'skip_remainder_batch': False, 'debug_param_names': False}, 'checkpoint': {'_name': None, 'save_dir': 'checkpoints', 'restore_file': 'checkpoint_last.pt', 'continue_once': None, 'finetune_from_model': None, 'reset_dataloader': False, 'reset_lr_scheduler': False, 'reset_meters': False, 'reset_optimizer': False, 'optimizer_overrides': '{}', 'save_interval': 1, 'save_interval_updates': 0, 'keep_interval_updates': -1, 'keep_interval_updates_pattern': -1, 'keep_last_epochs': -1, 'keep_best_checkpoints': -1, 'no_save': False, 'no_epoch_checkpoints': False, 'no_last_checkpoints': False, 'no_save_optimizer_state': False, 'best_checkpoint_metric': 'loss', 'maximize_best_checkpoint_metric': False, 'patience': -1, 'checkpoint_suffix': '', 'checkpoint_shard_count': 1, 'load_checkpoint_on_all_dp_ranks': False, 'write_checkpoints_asynchronously': False, 'model_parallel_size': 1}, 'bmuf': {'_name': None, 'block_lr': 1.0, 'block_momentum': 0.875, 'global_sync_iter': 50, 'warmup_iterations': 500, 'use_nbm': False, 'average_sync': False, 'distributed_world_size': 1}, 'generation': {'_name': None, 'beam': 5, 'beam_mt': 0, 'nbest': 1, 'max_len_a': 0.0, 'max_len_b': 200, 'max_len_a_mt': 0.0, 'max_len_b_mt': 200, 'min_len': 1, 'match_source_len': False, 'unnormalized': False, 'no_early_stop': False, 'no_beamable_mm': False, 'lenpen': 1.0, 'lenpen_mt': 1.0, 'unkpen': 0.0, 'replace_unk': None, 'sacrebleu': False, 'score_reference': False, 'prefix_size': 0, 'no_repeat_ngram_size': 0, 'sampling': False, 'sampling_topk': -1, 'sampling_topp': -1.0, 'constraints': None, 'temperature': 1.0, 'diverse_beam_groups': -1, 'diverse_beam_strength': 0.5, 'diversity_rate': -1.0, 'print_alignment': None, 'print_step': False, 'lm_path': None, 'lm_weight': 0.0, 'iter_decode_eos_penalty': 0.0, 'iter_decode_max_iter': 10, 'iter_decode_force_max_iter': False, 'iter_decode_with_beam': 1, 'iter_decode_with_external_reranker': False, 'retain_iter_history': False, 'retain_dropout': False, 'retain_dropout_modules': None, 'decoding_format': None, 'no_seed_provided': False, 'eos_token': None}, 'eval_lm': {'_name': None, 'output_word_probs': False, 'output_word_stats': False, 'context_window': 0, 'softmax_batch': 9223372036854775807}, 'interactive': {'_name': None, 'buffer_size': 1, 'input': 'data/4k/bpe/sample.txt'}, 'model': None, 'task': {'_name': 'translation', 'data': '/home/sumin/Downloads/jit/data/4k/ko-je-bin', 'source_lang': 'ko', 'target_lang': 'je', 'load_alignments': False, 'left_pad_source': True, 'left_pad_target': False, 'max_source_positions': 1024, 'max_target_positions': 1024, 'upsample_primary': -1, 'truncate_source': False, 'num_batch_buckets': 0, 'train_subset': 'train', 'dataset_impl': None, 'required_seq_len_multiple': 1, 'eval_bleu': False, 'eval_bleu_args': '{}', 'eval_bleu_detok': 'space', 'eval_bleu_detok_args': '{}', 'eval_tokenized_bleu': False, 'eval_bleu_remove_bpe': None, 'eval_bleu_print_samples': False}, 'criterion': {'_name': 'cross_entropy', 'sentence_avg': True}, 'optimizer': None, 'lr_scheduler': {'_name': 'fixed', 'force_anneal': None, 'lr_shrink': 0.1, 'warmup_updates': 0, 'lr': [0.25]}, 'scoring': {'_name': 'bleu', 'pad': 1, 'eos': 2, 'unk': 3}, 'bpe': None, 'tokenizer': None, 'ema': {'_name': None, 'store_ema': False, 'ema_decay': 0.9999, 'ema_start_update': 0, 'ema_seed_model': None, 'ema_update_freq': 1, 'ema_fp32': False}, 'simul_type': None}\n",
      "2023-06-17 16:03:37 | INFO | fairseq.tasks.translation | [ko] dictionary: 4001 types\n",
      "2023-06-17 16:03:37 | INFO | fairseq.tasks.translation | [je] dictionary: 4001 types\n",
      "2023-06-17 16:03:37 | INFO | fairseq_cli.interactive | loading model(s) from /home/sumin/train/4k/ko-je-bin/ckpt/checkpoint_best.pt\n",
      "2023-06-17 16:03:40 | INFO | fairseq_cli.interactive | NOTE: hypothesis and token scores are output in base 2\n",
      "2023-06-17 16:03:40 | INFO | fairseq_cli.interactive | Type the input sentence and press return:\n",
      "2023-06-17 16:03:40 | INFO | fairseq.tasks.fairseq_task | can_reuse_epoch_itr = True\n",
      "2023-06-17 16:03:40 | INFO | fairseq.tasks.fairseq_task | reuse_dataloader = True\n",
      "2023-06-17 16:03:40 | INFO | fairseq.tasks.fairseq_task | rebuild_batches = False\n",
      "2023-06-17 16:03:40 | INFO | fairseq.tasks.fairseq_task | creating new batches for epoch 1\n",
      "2023-06-17 16:03:41 | INFO | fairseq.tasks.fairseq_task | can_reuse_epoch_itr = True\n",
      "2023-06-17 16:03:41 | INFO | fairseq.tasks.fairseq_task | reuse_dataloader = True\n",
      "2023-06-17 16:03:41 | INFO | fairseq.tasks.fairseq_task | rebuild_batches = False\n",
      "2023-06-17 16:03:41 | INFO | fairseq.tasks.fairseq_task | creating new batches for epoch 1\n",
      "2023-06-17 16:03:41 | INFO | fairseq_cli.interactive | Total time: 4.373 seconds; translation time: 1.002\n"
     ]
    }
   ],
   "source": [
    "# train/valid/test\n",
    "sample = codecs.open(f\"{hp.jit}/sample.txt\", 'r', 'utf8').read().splitlines()\n",
    "\n",
    "    # bpe train\n",
    "dir = 'data/{}k/bpe'.format(str(hp.vocab_size)[:-3])\n",
    "os.makedirs(dir, exist_ok=True)\n",
    "\n",
    "    # apply\n",
    "sp = spm.SentencePieceProcessor()\n",
    "sp.Load(f'{dir}/bpe.model')\n",
    "apply_bpe(sp, sample, f'{dir}/sample.txt')\n",
    "\n",
    "!fairseq-interactive /home/sumin/Downloads/jit/data/4k/ko-je-bin \\\n",
    "  --path /home/sumin/train/4k/ko-je-bin/ckpt/checkpoint_best.pt \\\n",
    "  --source-lang ko --target-lang je \\\n",
    "  --remove-bpe 'sentencepiece' \\\n",
    "  --beam 5 \\\n",
    "  --input={dir}/sample.txt > target.txt "
   ]
  },
  {
   "cell_type": "code",
   "execution_count": 9,
   "metadata": {},
   "outputs": [],
   "source": [
    "import torch"
   ]
  },
  {
   "cell_type": "code",
   "execution_count": null,
   "metadata": {},
   "outputs": [],
   "source": []
  }
 ],
 "metadata": {
  "kernelspec": {
   "display_name": "Python 3 (ipykernel)",
   "language": "python",
   "name": "python3"
  },
  "language_info": {
   "codemirror_mode": {
    "name": "ipython",
    "version": 3
   },
   "file_extension": ".py",
   "mimetype": "text/x-python",
   "name": "python",
   "nbconvert_exporter": "python",
   "pygments_lexer": "ipython3",
   "version": "3.8.10"
  }
 },
 "nbformat": 4,
 "nbformat_minor": 4
}
